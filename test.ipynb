{
 "cells": [
  {
   "attachments": {},
   "cell_type": "markdown",
   "metadata": {},
   "source": [
    "# notebook di test"
   ]
  },
  {
   "cell_type": "code",
   "execution_count": 1,
   "metadata": {},
   "outputs": [],
   "source": [
    "import pyspark\n",
    "from delta import *\n",
    "\n",
    "%load_ext sparksql_magic\n",
    "\n",
    "builder = pyspark.sql.SparkSession.builder.appName(\"MyApp\") \\\n",
    "    .config(\"spark.sql.extensions\", \"io.delta.sql.DeltaSparkSessionExtension\") \\\n",
    "    .config(\"spark.sql.catalog.spark_catalog\", \"org.apache.spark.sql.delta.catalog.DeltaCatalog\")\n",
    "\n",
    "spark = configure_spark_with_delta_pip(builder).getOrCreate()"
   ]
  },
  {
   "cell_type": "code",
   "execution_count": 3,
   "metadata": {},
   "outputs": [],
   "source": [
    "df = spark.read.csv(\"../../data/iris.csv\", header=True)\n",
    "df.createOrReplaceTempView(\"iris\")"
   ]
  },
  {
   "cell_type": "code",
   "execution_count": 4,
   "metadata": {
    "vscode": {
     "languageId": "sql"
    }
   },
   "outputs": [
    {
     "name": "stdout",
     "output_type": "stream",
     "text": [
      "cache dataframe with lazy load\n",
      "create temporary view `result`\n",
      "capture dataframe to local variable `df01`\n",
      "only showing top 20 row(s)\n"
     ]
    },
    {
     "data": {
      "text/html": [
       "<table><tr style=\"border-bottom: 1px solid\"><td style=\"font-weight: bold\">sepal.length</td><td style=\"font-weight: bold\">sepal.width</td><td style=\"font-weight: bold\">petal.length</td><td style=\"font-weight: bold\">petal.width</td><td style=\"font-weight: bold\">variety</td></tr><tr><td>5.1</td><td>3.5</td><td>1.4</td><td>.2</td><td>Setosa</td></tr><tr><td>4.9</td><td>3</td><td>1.4</td><td>.2</td><td>Setosa</td></tr><tr><td>4.7</td><td>3.2</td><td>1.3</td><td>.2</td><td>Setosa</td></tr><tr><td>4.6</td><td>3.1</td><td>1.5</td><td>.2</td><td>Setosa</td></tr><tr><td>5</td><td>3.6</td><td>1.4</td><td>.2</td><td>Setosa</td></tr><tr><td>5.4</td><td>3.9</td><td>1.7</td><td>.4</td><td>Setosa</td></tr><tr><td>4.6</td><td>3.4</td><td>1.4</td><td>.3</td><td>Setosa</td></tr><tr><td>5</td><td>3.4</td><td>1.5</td><td>.2</td><td>Setosa</td></tr><tr><td>4.4</td><td>2.9</td><td>1.4</td><td>.2</td><td>Setosa</td></tr><tr><td>4.9</td><td>3.1</td><td>1.5</td><td>.1</td><td>Setosa</td></tr><tr><td>5.4</td><td>3.7</td><td>1.5</td><td>.2</td><td>Setosa</td></tr><tr><td>4.8</td><td>3.4</td><td>1.6</td><td>.2</td><td>Setosa</td></tr><tr><td>4.8</td><td>3</td><td>1.4</td><td>.1</td><td>Setosa</td></tr><tr><td>4.3</td><td>3</td><td>1.1</td><td>.1</td><td>Setosa</td></tr><tr><td>5.8</td><td>4</td><td>1.2</td><td>.2</td><td>Setosa</td></tr><tr><td>5.7</td><td>4.4</td><td>1.5</td><td>.4</td><td>Setosa</td></tr><tr><td>5.4</td><td>3.9</td><td>1.3</td><td>.4</td><td>Setosa</td></tr><tr><td>5.1</td><td>3.5</td><td>1.4</td><td>.3</td><td>Setosa</td></tr><tr><td>5.7</td><td>3.8</td><td>1.7</td><td>.3</td><td>Setosa</td></tr><tr><td>5.1</td><td>3.8</td><td>1.5</td><td>.3</td><td>Setosa</td></tr></table>"
      ],
      "text/plain": [
       "<IPython.core.display.HTML object>"
      ]
     },
     "execution_count": 4,
     "metadata": {},
     "output_type": "execute_result"
    }
   ],
   "source": [
    "%%sparksql --cache --view result df01\n",
    "select *\n",
    "from iris"
   ]
  }
 ],
 "metadata": {
  "kernelspec": {
   "display_name": "Python 3 (ipykernel)",
   "language": "python",
   "name": "python3"
  },
  "language_info": {
   "codemirror_mode": {
    "name": "ipython",
    "version": 3
   },
   "file_extension": ".py",
   "mimetype": "text/x-python",
   "name": "python",
   "nbconvert_exporter": "python",
   "pygments_lexer": "ipython3",
   "version": "3.10.8"
  },
  "orig_nbformat": 4,
  "vscode": {
   "interpreter": {
    "hash": "916dbcbb3f70747c44a77c7bcd40155683ae19c65e1c03b4aa3499c5328201f1"
   }
  }
 },
 "nbformat": 4,
 "nbformat_minor": 2
}
